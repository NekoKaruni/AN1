import os

import pandas as pd

os.chdir("C:/data/")

# ティッカーコードのリストを読み込む
tickers_df = pd.read_csv("data_j.csv")
tickers = tickers_df["ticker"].tolist()  # ティッカーコードのカラム名に合わせてください

# ファイルが保存されているディレクトリを指定
directory = r"C:\data\financial"

# 結合後のデータを格納するリスト
merged_data = []

# 各ティッカーコードごとに処理を実行
for ticker in tickers:
    # ティッカーコードに対応する各ファイルを読み込む
    balance_sheet_file = os.path.join(directory, f"{ticker}.T_balance_sheet.csv")
    income_statement_file = os.path.join(directory, f"{ticker}.T_income_statement.csv")
    cash_flow_file = os.path.join(directory, f"{ticker}.T_cash_flow.csv")

    if (
        os.path.exists(balance_sheet_file)
        and os.path.exists(income_statement_file)
        and os.path.exists(cash_flow_file)
    ):
        # 各データを読み込む
        balance_sheet_df = pd.read_csv(balance_sheet_file)
        income_statement_df = pd.read_csv(income_statement_file)
        cash_flow_df = pd.read_csv(cash_flow_file)

        # ティッカーコードを追加（必要に応じて）
        balance_sheet_df["Ticker"] = ticker
        income_statement_df["Ticker"] = ticker
        cash_flow_df["Ticker"] = ticker

        # データを結合する（例: `merge`を使用）
        merged_df = pd.merge(
            balance_sheet_df, income_statement_df, on="Ticker", how="outer"
        )
        merged_df = pd.merge(merged_df, cash_flow_df, on="Ticker", how="outer")

        # 結合したデータをリストに追加
        merged_data.append(merged_df)

# 結合したデータフレームを最終的に1つにまとめる
final_data = pd.concat(merged_data, ignore_index=True)


# 出力先のディレクトリを指定
output_directory = r"C:\data\output"

# 結果を保存（ティッカーコードごとにファイル名を設定）
output_file = os.path.join(output_directory, f"{ticker}_financial.csv")
final_data.to_csv(output_file, index=False)



import os

import pandas as pd

# ディレクトリの設定
input_directory = r"C:\data\financial"  # 必要に応じて変更
output_directory = r"C:\data\output"  # 結果を保存するディレクトリ

# ティッカーコードのリストを読み込む
tickers_df = pd.read_csv("data_j.csv")
tickers = tickers_df["ticker"].str.lower().tolist()

merged_data = []  # データを格納するリスト

# 各ティッカーコードについて処理
for ticker in tickers:
    balance_sheet_file = os.path.join(input_directory, f"{ticker}.T_balance_sheet.csv")
    income_statement_file = os.path.join(
        input_directory, f"{ticker}.T_income_statement.csv"
    )
    cash_flow_file = os.path.join(input_directory, f"{ticker}.T_cash_flow.csv")

    # ファイルがすべて存在するか確認
    if (
        os.path.exists(balance_sheet_file)
        and os.path.exists(income_statement_file)
        and os.path.exists(cash_flow_file)
    ):
        print(f"Files for ticker {ticker} found, proceeding with merge.")

        # ファイルの読み込み
        balance_sheet_df = pd.read_csv(balance_sheet_file)
        income_statement_df = pd.read_csv(income_statement_file)
        cash_flow_df = pd.read_csv(cash_flow_file)

        # データフレームが空でないか確認
        if balance_sheet_df.empty or income_statement_df.empty or cash_flow_df.empty:
            print(f"One or more dataframes for ticker {ticker} are empty.")
        else:
            balance_sheet_df["ticker"] = ticker
            income_statement_df["ticker"] = ticker
            cash_flow_df["ticker"] = ticker

            # 結合処理
            merged_df = pd.merge(
                balance_sheet_df, income_statement_df, on="ticker", how="outer"
            )
            merged_df = pd.merge(merged_df, cash_flow_df, on="ticker", how="outer")

            # merged_df が正しく作成されたか確認
            print(f"Merged dataframe for ticker {ticker}:")
            print(merged_df.head())

            merged_data.append(merged_df)
    else:
        print(f"Files missing for ticker: {ticker}")

# 最後にmerged_dataを確認
if merged_data:
    final_data = pd.concat(merged_data, ignore_index=True)
    final_data.to_csv(os.path.join(output_directory, "final_output.csv"), index=False)
    print("Final data has been saved successfully.")
else:
    print("No data to concatenate.")



